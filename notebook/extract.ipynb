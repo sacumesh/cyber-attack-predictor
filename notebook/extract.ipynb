{
 "cells": [
  {
   "cell_type": "code",
   "execution_count": 3,
   "metadata": {},
   "outputs": [],
   "source": [
    "import re\n",
    "\n",
    "regex = r\"(?P<browser>Firefox|Chrome|Safari|Opera|Edge|MSIE|Trident|Mozilla)[\\/\\s]?(?P<browser_version>[0-9.]+)?\\b.*?\\((?P<device_type>[^;]+);?.*?(?P<os>Windows NT|Mac OS X|Linux|Android|iPhone OS|iPad OS|PPC Mac OS X|Unix|Ubuntu|FreeBSD|SunOS|.*?)\""
   ]
  },
  {
   "cell_type": "code",
   "execution_count": 4,
   "metadata": {},
   "outputs": [
    {
     "name": "stdout",
     "output_type": "stream",
     "text": [
      "Browser: Mozilla\n",
      "Device Type: compatible\n",
      "Operating System: \n"
     ]
    }
   ],
   "source": [
    "user_agent = \"Mozilla/5.0 (compatible; MSIE 8.0; Windows NT 6.2; Trident/5.0)\"\n",
    "match = re.search(regex, user_agent)\n",
    "if match:\n",
    "    browser = match.group(\"browser\")\n",
    "    device_type = match.group(\"device_type\")\n",
    "    os = match.group(\"os\")\n",
    "    print(f\"Browser: {browser}\")\n",
    "    print(f\"Device Type: {device_type}\")\n",
    "    print(f\"Operating System: {os}\")\n",
    "else:\n",
    "    print(\"No match found!\")"
   ]
  },
  {
   "cell_type": "code",
   "execution_count": 4,
   "metadata": {},
   "outputs": [
    {
     "name": "stdout",
     "output_type": "stream",
     "text": [
      "Browser(family='Mobile Safari', version=(5, 1), version_string='5.1')\n",
      "Mobile Safari\n",
      "(5, 1)\n",
      "5.1\n",
      "OperatingSystem(family='iOS', version=(5, 1), version_string='5.1')\n",
      "iOS\n",
      "(5, 1)\n",
      "5.1\n",
      "Device(family='iPhone', brand='Apple', model='iPhone')\n",
      "iPhone\n",
      "Apple\n",
      "iPhone\n",
      "iPhone / iOS 5.1 / Mobile Safari 5.1\n"
     ]
    }
   ],
   "source": [
    "from user_agents import parse\n",
    "\n",
    "# Example user agent string\n",
    "ua_string = 'Mozilla/5.0 (iPhone; CPU iPhone OS 5_1 like Mac OS X) AppleWebKit/534.46 (KHTML, like Gecko) Version/5.1 Mobile/9B179 Safari/7534.48.3'\n",
    "# ua_string = \"Mozilla/5.0 (compatible; MSIE 8.0; Windows NT 6.2; Trident/5.0\"\n",
    "# ua_string = \"Mozilla/5.0 (Macintosh; U; PPC Mac OS X 10_7_6) AppleWebKit/534.2 (KHTML, like Gecko) Chrome/45.0.865.0 Safari/534.2\"\n",
    "user_agent = parse(ua_string)\n",
    "\n",
    "# Accessing user agent's browser attributes\n",
    "print(user_agent.browser)  # Browser(family='Mobile Safari', version=(5, 1), version_string='5.1')\n",
    "print(user_agent.browser.family)  # 'Mobile Safari'\n",
    "print(user_agent.browser.version)  # (5, 1)\n",
    "print(user_agent.browser.version_string)  # '5.1'\n",
    "\n",
    "# Accessing user agent's operating system properties\n",
    "print(user_agent.os)  # OperatingSystem(family='iOS', version=(5, 1), version_string='5.1')\n",
    "print(user_agent.os.family)  # 'iOS'\n",
    "print(user_agent.os.version)  # (5, 1)\n",
    "print(user_agent.os.version_string)  # '5.1'\n",
    "\n",
    "# Accessing user agent's device properties\n",
    "print(user_agent.device)  # Device(family='iPhone', brand='Apple', model='iPhone')\n",
    "print(user_agent.device.family)  # 'iPhone'\n",
    "print(user_agent.device.brand)  # 'Apple'\n",
    "print(user_agent.device.model)  # 'iPhone'\n",
    "\n",
    "# Viewing a pretty string version\n",
    "print(str(user_agent))  # 'iPhone / iOS 5.1 / Mobile Safari 5.1'"
   ]
  }
 ],
 "metadata": {
  "kernelspec": {
   "display_name": "dsti_ml",
   "language": "python",
   "name": "python3"
  },
  "language_info": {
   "codemirror_mode": {
    "name": "ipython",
    "version": 3
   },
   "file_extension": ".py",
   "mimetype": "text/x-python",
   "name": "python",
   "nbconvert_exporter": "python",
   "pygments_lexer": "ipython3",
   "version": "3.8.20"
  }
 },
 "nbformat": 4,
 "nbformat_minor": 2
}
